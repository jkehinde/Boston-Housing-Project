{
 "cells": [
  {
   "cell_type": "markdown",
   "metadata": {
    "colab_type": "text",
    "id": "m3PAEPRDRLA3"
   },
   "source": [
    "# Support Vector Regression (SVR)"
   ]
  },
  {
   "cell_type": "markdown",
   "metadata": {
    "colab_type": "text",
    "id": "0VCUAVIjRdzZ"
   },
   "source": [
    "## Importing the libraries"
   ]
  },
  {
   "cell_type": "code",
   "execution_count": 1,
   "metadata": {
    "colab": {},
    "colab_type": "code",
    "id": "56oRF-QfSDzC"
   },
   "outputs": [],
   "source": [
    "import numpy as np\n",
    "import matplotlib.pyplot as plt\n",
    "import pandas as pd"
   ]
  },
  {
   "cell_type": "markdown",
   "metadata": {
    "colab_type": "text",
    "id": "fXVXoFWtSF4_"
   },
   "source": [
    "## Importing the dataset"
   ]
  },
  {
   "cell_type": "code",
   "execution_count": 2,
   "metadata": {
    "colab": {},
    "colab_type": "code",
    "id": "xfoa8OSORfHQ"
   },
   "outputs": [],
   "source": [
    "dataset = pd.read_csv('Housing.csv')\n",
    "X = dataset.iloc[:, :-1].values\n",
    "y = dataset.iloc[:, -1].values"
   ]
  },
  {
   "cell_type": "code",
   "execution_count": 3,
   "metadata": {
    "colab": {},
    "colab_type": "code",
    "id": "_8Ny1GfPiV3m"
   },
   "outputs": [],
   "source": [
    "y = y.reshape(len(y),1) \n",
    "# We reshape our dependent variable y because we have to feature scale it.\n",
    "# since we are doing regression and the dependent varibale is continuos"
   ]
  },
  {
   "cell_type": "markdown",
   "metadata": {
    "colab_type": "text",
    "id": "6Vk3nNlrCVCN"
   },
   "source": [
    "## Splitting the dataset into the Training set and Test set"
   ]
  },
  {
   "cell_type": "code",
   "execution_count": 4,
   "metadata": {
    "colab": {},
    "colab_type": "code",
    "id": "x_fXqrziCV3_"
   },
   "outputs": [],
   "source": [
    "from sklearn.model_selection import train_test_split\n",
    "X_train, X_test, y_train, y_test = train_test_split(X, y, test_size = 0.2, random_state = 0)"
   ]
  },
  {
   "cell_type": "markdown",
   "metadata": {
    "colab_type": "text",
    "id": "YS8FeLHYS-nI"
   },
   "source": [
    "## Feature Scaling"
   ]
  },
  {
   "cell_type": "code",
   "execution_count": 5,
   "metadata": {
    "colab": {},
    "colab_type": "code",
    "id": "PGeAlD1HTDI1"
   },
   "outputs": [],
   "source": [
    "from sklearn.preprocessing import StandardScaler\n",
    "sc_X = StandardScaler()\n",
    "sc_y = StandardScaler()\n",
    "X_train = sc_X.fit_transform(X_train)\n",
    "y_train = sc_y.fit_transform(y_train)"
   ]
  },
  {
   "cell_type": "markdown",
   "metadata": {
    "colab_type": "text",
    "id": "eiU6D2QFRjxY"
   },
   "source": [
    "## Training the SVR model on the Training set"
   ]
  },
  {
   "cell_type": "code",
   "execution_count": 7,
   "metadata": {
    "colab": {},
    "colab_type": "code",
    "id": "y6R4rt_GRz15"
   },
   "outputs": [
    {
     "data": {
      "text/plain": [
       "SVR(C=1.0, cache_size=200, coef0=0.0, degree=3, epsilon=0.1, gamma='scale',\n",
       "    kernel='rbf', max_iter=-1, shrinking=True, tol=0.001, verbose=False)"
      ]
     },
     "execution_count": 7,
     "metadata": {},
     "output_type": "execute_result"
    }
   ],
   "source": [
    "from sklearn.svm import SVR\n",
    "regressor = SVR(kernel = 'rbf')\n",
    "regressor.fit(X_train, y_train.ravel())"
   ]
  },
  {
   "cell_type": "markdown",
   "metadata": {
    "colab_type": "text",
    "id": "aPYA5W1pDBOE"
   },
   "source": [
    "## Predicting the Test set results"
   ]
  },
  {
   "cell_type": "code",
   "execution_count": 8,
   "metadata": {
    "colab": {},
    "colab_type": "code",
    "id": "vSqFVDYrDROW"
   },
   "outputs": [
    {
     "name": "stdout",
     "output_type": "stream",
     "text": [
      "[[424316.41 417900.  ]\n",
      " [643760.17 632100.  ]\n",
      " [346594.   281400.  ]\n",
      " [278591.02 577500.  ]\n",
      " [503965.77 474600.  ]\n",
      " [292793.04 359100.  ]\n",
      " [363005.4  247800.  ]\n",
      " [408236.97 474600.  ]\n",
      " [450506.2  449400.  ]\n",
      " [386965.71 411600.  ]\n",
      " [265567.4  214200.  ]\n",
      " [365487.77 214200.  ]\n",
      " [452640.72 428400.  ]\n",
      " [227897.58 375900.  ]\n",
      " [455635.49 577500.  ]\n",
      " [335473.95 327600.  ]\n",
      " [444301.04 420000.  ]\n",
      " [561285.02 489300.  ]\n",
      " [408789.3  470400.  ]\n",
      " [637568.72 640500.  ]\n",
      " [734082.17 651000.  ]\n",
      " [745470.31 690900.  ]\n",
      " [270235.7  147000.  ]\n",
      " [436918.04 441000.  ]\n",
      " [390689.43 367500.  ]\n",
      " [904964.63 966000.  ]\n",
      " [772555.26 756000.  ]\n",
      " [896560.41 888300.  ]\n",
      " [403154.5  455700.  ]\n",
      " [418591.31 445200.  ]\n",
      " [300677.31 323400.  ]\n",
      " [392458.05 455700.  ]\n",
      " [456208.63 430500.  ]\n",
      " [694864.91 867300.  ]\n",
      " [438280.07 445200.  ]\n",
      " [840357.32 875700.  ]\n",
      " [466009.71 415800.  ]\n",
      " [256475.63 268800.  ]\n",
      " [484723.39 590100.  ]\n",
      " [550174.65 497700.  ]\n",
      " [270429.97 231000.  ]\n",
      " [380401.83 315000.  ]\n",
      " [411939.65 388500.  ]\n",
      " [479116.49 449400.  ]\n",
      " [341019.55 413700.  ]\n",
      " [378903.97 352800.  ]\n",
      " [499885.92 453600.  ]\n",
      " [326509.83 306600.  ]\n",
      " [731151.89 898800.  ]\n",
      " [410476.39 514500.  ]\n",
      " [702820.02 743400.  ]\n",
      " [432278.19 474600.  ]\n",
      " [598902.68 600600.  ]\n",
      " [327513.26 304500.  ]\n",
      " [784580.54 661500.  ]\n",
      " [562419.3  489300.  ]\n",
      " [375959.65 422100.  ]\n",
      " [290239.38 184800.  ]\n",
      " [464443.97 525000.  ]\n",
      " [429211.94 249900.  ]\n",
      " [371581.54 407400.  ]\n",
      " [258767.14 361200.  ]\n",
      " [428236.12 428400.  ]\n",
      " [420080.62 392700.  ]\n",
      " [386024.68 428400.  ]\n",
      " [400247.8  472500.  ]\n",
      " [231255.76 258300.  ]\n",
      " [560346.27 550200.  ]\n",
      " [532246.03 346500.  ]\n",
      " [231689.13 199500.  ]\n",
      " [211630.71 302400.  ]\n",
      " [538857.98 611100.  ]\n",
      " [373670.13 396900.  ]\n",
      " [562622.98 585900.  ]\n",
      " [258098.49 279300.  ]\n",
      " [421591.58 483000.  ]\n",
      " [540809.54 462000.  ]\n",
      " [326737.82 218400.  ]\n",
      " [540129.99 518700.  ]\n",
      " [381024.85 420000.  ]\n",
      " [400938.08 392700.  ]\n",
      " [851215.58 980700.  ]\n",
      " [438744.73 455700.  ]\n",
      " [480557.93 514500.  ]\n",
      " [429737.97 480900.  ]\n",
      " [660186.36 520800.  ]\n",
      " [555544.05 485100.  ]\n",
      " [500821.33 525000.  ]\n",
      " [429712.97 390600.  ]\n",
      " [380249.22 569100.  ]\n",
      " [415190.85 359100.  ]\n",
      " [355039.11 346500.  ]\n",
      " [347877.48 283500.  ]\n",
      " [340159.39 344400.  ]\n",
      " [485761.76 459900.  ]\n",
      " [485820.94 464100.  ]\n",
      " [428440.15 432600.  ]\n",
      " [581653.06 617400.  ]]\n"
     ]
    }
   ],
   "source": [
    "y_pred = sc_y.inverse_transform(regressor.predict(sc_X.transform(X_test)))\n",
    "np.set_printoptions(precision=2)\n",
    "print(np.concatenate((y_pred.reshape(len(y_pred),1), y_test.reshape(len(y_test),1)),1))"
   ]
  },
  {
   "cell_type": "markdown",
   "metadata": {
    "colab_type": "text",
    "id": "CMsYlps2DX1d"
   },
   "source": [
    "## Evaluating the Model Performance"
   ]
  },
  {
   "cell_type": "code",
   "execution_count": 9,
   "metadata": {
    "colab": {},
    "colab_type": "code",
    "id": "HxsRWlURDr6S"
   },
   "outputs": [
    {
     "data": {
      "text/plain": [
       "0.787488569711881"
      ]
     },
     "execution_count": 9,
     "metadata": {},
     "output_type": "execute_result"
    }
   ],
   "source": [
    "from sklearn.metrics import r2_score\n",
    "r2_score(y_test, y_pred)"
   ]
  }
 ],
 "metadata": {
  "colab": {
   "collapsed_sections": [],
   "name": "support_vector_regression.ipynb",
   "provenance": [],
   "toc_visible": true
  },
  "kernelspec": {
   "display_name": "Python 3",
   "language": "python",
   "name": "python3"
  },
  "language_info": {
   "codemirror_mode": {
    "name": "ipython",
    "version": 3
   },
   "file_extension": ".py",
   "mimetype": "text/x-python",
   "name": "python",
   "nbconvert_exporter": "python",
   "pygments_lexer": "ipython3",
   "version": "3.7.6"
  }
 },
 "nbformat": 4,
 "nbformat_minor": 1
}
