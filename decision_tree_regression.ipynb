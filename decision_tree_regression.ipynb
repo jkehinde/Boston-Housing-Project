{
 "cells": [
  {
   "cell_type": "markdown",
   "metadata": {
    "colab_type": "text",
    "id": "r3cas2_1T98w"
   },
   "source": [
    "# Decision Tree Regression"
   ]
  },
  {
   "cell_type": "markdown",
   "metadata": {
    "colab_type": "text",
    "id": "IODliia6U1xO"
   },
   "source": [
    "## Importing the libraries"
   ]
  },
  {
   "cell_type": "code",
   "execution_count": 1,
   "metadata": {
    "colab": {},
    "colab_type": "code",
    "id": "y98nA5UdU6Hf"
   },
   "outputs": [],
   "source": [
    "import numpy as np\n",
    "import matplotlib.pyplot as plt\n",
    "import pandas as pd"
   ]
  },
  {
   "cell_type": "markdown",
   "metadata": {
    "colab_type": "text",
    "id": "jpjZ43YlU8eI"
   },
   "source": [
    "## Importing the dataset"
   ]
  },
  {
   "cell_type": "code",
   "execution_count": 2,
   "metadata": {
    "colab": {},
    "colab_type": "code",
    "id": "pLVaXoYVU_Uy"
   },
   "outputs": [],
   "source": [
    "dataset = pd.read_csv('Housing.csv')\n",
    "X = dataset.iloc[:, :-1].values\n",
    "y = dataset.iloc[:, -1].values"
   ]
  },
  {
   "cell_type": "markdown",
   "metadata": {
    "colab_type": "text",
    "id": "tPJXMyyUJbWn"
   },
   "source": [
    "## Splitting the dataset into the Training set and Test set"
   ]
  },
  {
   "cell_type": "code",
   "execution_count": 3,
   "metadata": {
    "colab": {},
    "colab_type": "code",
    "id": "rFOzpjaiJd5B"
   },
   "outputs": [],
   "source": [
    "from sklearn.model_selection import train_test_split\n",
    "X_train, X_test, y_train, y_test = train_test_split(X, y, test_size = 0.2, random_state = 0)"
   ]
  },
  {
   "cell_type": "markdown",
   "metadata": {
    "colab_type": "text",
    "id": "g16qFkFQVC35"
   },
   "source": [
    "## Training the Decision Tree Regression model on the Training set"
   ]
  },
  {
   "cell_type": "code",
   "execution_count": 4,
   "metadata": {
    "colab": {},
    "colab_type": "code",
    "id": "SLDKyv1SVUqS"
   },
   "outputs": [
    {
     "data": {
      "text/plain": [
       "DecisionTreeRegressor(ccp_alpha=0.0, criterion='mse', max_depth=None,\n",
       "                      max_features=None, max_leaf_nodes=None,\n",
       "                      min_impurity_decrease=0.0, min_impurity_split=None,\n",
       "                      min_samples_leaf=1, min_samples_split=2,\n",
       "                      min_weight_fraction_leaf=0.0, presort='deprecated',\n",
       "                      random_state=0, splitter='best')"
      ]
     },
     "execution_count": 4,
     "metadata": {},
     "output_type": "execute_result"
    }
   ],
   "source": [
    "from sklearn.tree import DecisionTreeRegressor\n",
    "regressor = DecisionTreeRegressor(random_state = 0)\n",
    "regressor.fit(X_train, y_train)"
   ]
  },
  {
   "cell_type": "markdown",
   "metadata": {
    "colab_type": "text",
    "id": "Nao9cdO6IgNb"
   },
   "source": [
    "## Predicting the Test set results"
   ]
  },
  {
   "cell_type": "code",
   "execution_count": 5,
   "metadata": {
    "colab": {},
    "colab_type": "code",
    "collapsed": true,
    "id": "EebHA3EOIkQK"
   },
   "outputs": [
    {
     "name": "stdout",
     "output_type": "stream",
     "text": [
      "[[438900. 417900.]\n",
      " [627900. 632100.]\n",
      " [327600. 281400.]\n",
      " [296100. 577500.]\n",
      " [495600. 474600.]\n",
      " [262500. 359100.]\n",
      " [306600. 247800.]\n",
      " [411600. 474600.]\n",
      " [441000. 449400.]\n",
      " [304500. 411600.]\n",
      " [151200. 214200.]\n",
      " [266700. 214200.]\n",
      " [443100. 428400.]\n",
      " [220500. 375900.]\n",
      " [556500. 577500.]\n",
      " [340200. 327600.]\n",
      " [436800. 420000.]\n",
      " [672000. 489300.]\n",
      " [415800. 470400.]\n",
      " [625800. 640500.]\n",
      " [468300. 651000.]\n",
      " [760200. 690900.]\n",
      " [289800. 147000.]\n",
      " [438900. 441000.]\n",
      " [415800. 367500.]\n",
      " [924000. 966000.]\n",
      " [699300. 756000.]\n",
      " [924000. 888300.]\n",
      " [409500. 455700.]\n",
      " [352800. 445200.]\n",
      " [487200. 323400.]\n",
      " [384300. 455700.]\n",
      " [518700. 430500.]\n",
      " [609000. 867300.]\n",
      " [436800. 445200.]\n",
      " [789600. 875700.]\n",
      " [495600. 415800.]\n",
      " [105000. 268800.]\n",
      " [430500. 590100.]\n",
      " [567000. 497700.]\n",
      " [151200. 231000.]\n",
      " [289800. 315000.]\n",
      " [388500. 388500.]\n",
      " [495600. 449400.]\n",
      " [329700. 413700.]\n",
      " [348600. 352800.]\n",
      " [510300. 453600.]\n",
      " [201600. 306600.]\n",
      " [919800. 898800.]\n",
      " [426300. 514500.]\n",
      " [695100. 743400.]\n",
      " [434700. 474600.]\n",
      " [501900. 600600.]\n",
      " [312900. 304500.]\n",
      " [665700. 661500.]\n",
      " [569100. 489300.]\n",
      " [348600. 422100.]\n",
      " [401100. 184800.]\n",
      " [760200. 525000.]\n",
      " [407400. 249900.]\n",
      " [327600. 407400.]\n",
      " [228900. 361200.]\n",
      " [384300. 428400.]\n",
      " [396900. 392700.]\n",
      " [405300. 428400.]\n",
      " [430500. 472500.]\n",
      " [147000. 258300.]\n",
      " [558600. 550200.]\n",
      " [554400. 346500.]\n",
      " [279300. 199500.]\n",
      " [289800. 302400.]\n",
      " [499800. 611100.]\n",
      " [348600. 396900.]\n",
      " [478800. 585900.]\n",
      " [228900. 279300.]\n",
      " [411600. 483000.]\n",
      " [468300. 462000.]\n",
      " [281400. 218400.]\n",
      " [531300. 518700.]\n",
      " [371700. 420000.]\n",
      " [388500. 392700.]\n",
      " [953400. 980700.]\n",
      " [399000. 455700.]\n",
      " [445200. 514500.]\n",
      " [401100. 480900.]\n",
      " [602700. 520800.]\n",
      " [558600. 485100.]\n",
      " [508200. 525000.]\n",
      " [338100. 390600.]\n",
      " [289800. 569100.]\n",
      " [405300. 359100.]\n",
      " [306600. 346500.]\n",
      " [401100. 283500.]\n",
      " [275100. 344400.]\n",
      " [510300. 459900.]\n",
      " [525000. 464100.]\n",
      " [525000. 432600.]\n",
      " [504000. 617400.]]\n"
     ]
    }
   ],
   "source": [
    "y_pred = regressor.predict(X_test)\n",
    "np.set_printoptions(precision=2)\n",
    "print(np.concatenate((y_pred.reshape(len(y_pred),1), y_test.reshape(len(y_test),1)),1))"
   ]
  },
  {
   "cell_type": "markdown",
   "metadata": {
    "colab_type": "text",
    "id": "V4nELFnnIod1"
   },
   "source": [
    "## Evaluating the Model Performance"
   ]
  },
  {
   "cell_type": "code",
   "execution_count": 6,
   "metadata": {
    "colab": {},
    "colab_type": "code",
    "id": "_G2QS1UoIsTZ"
   },
   "outputs": [
    {
     "data": {
      "text/plain": [
       "0.6714474055340578"
      ]
     },
     "execution_count": 6,
     "metadata": {},
     "output_type": "execute_result"
    }
   ],
   "source": [
    "from sklearn.metrics import r2_score\n",
    "r2_score(y_test, y_pred)"
   ]
  }
 ],
 "metadata": {
  "colab": {
   "collapsed_sections": [],
   "name": "decision_tree_regression.ipynb",
   "provenance": [],
   "toc_visible": true
  },
  "kernelspec": {
   "display_name": "Python 3",
   "language": "python",
   "name": "python3"
  },
  "language_info": {
   "codemirror_mode": {
    "name": "ipython",
    "version": 3
   },
   "file_extension": ".py",
   "mimetype": "text/x-python",
   "name": "python",
   "nbconvert_exporter": "python",
   "pygments_lexer": "ipython3",
   "version": "3.7.6"
  }
 },
 "nbformat": 4,
 "nbformat_minor": 1
}
