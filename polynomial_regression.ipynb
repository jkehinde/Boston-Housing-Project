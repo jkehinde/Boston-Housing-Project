{
 "cells": [
  {
   "cell_type": "markdown",
   "metadata": {
    "colab_type": "text",
    "id": "vN99YjPTDena"
   },
   "source": [
    "# Polynomial Regression"
   ]
  },
  {
   "cell_type": "markdown",
   "metadata": {
    "colab_type": "text",
    "id": "ZIx_naXnDyHd"
   },
   "source": [
    "## Importing the libraries"
   ]
  },
  {
   "cell_type": "code",
   "execution_count": 1,
   "metadata": {
    "colab": {},
    "colab_type": "code",
    "id": "FjnmdyPLD2tS"
   },
   "outputs": [],
   "source": [
    "import numpy as np\n",
    "import matplotlib.pyplot as plt\n",
    "import pandas as pd"
   ]
  },
  {
   "cell_type": "markdown",
   "metadata": {
    "colab_type": "text",
    "id": "6c8YExmOD5x5"
   },
   "source": [
    "## Importing the dataset"
   ]
  },
  {
   "cell_type": "code",
   "execution_count": 2,
   "metadata": {
    "colab": {},
    "colab_type": "code",
    "id": "nQOdXhjXD_AE"
   },
   "outputs": [],
   "source": [
    "dataset = pd.read_csv('Housing.csv')\n",
    "X = dataset.iloc[:, :-1].values\n",
    "y = dataset.iloc[:, -1].values"
   ]
  },
  {
   "cell_type": "markdown",
   "metadata": {
    "colab_type": "text",
    "id": "Ud_1XTb28iXH"
   },
   "source": [
    "## Splitting the dataset into the Training set and Test set"
   ]
  },
  {
   "cell_type": "code",
   "execution_count": 3,
   "metadata": {
    "colab": {},
    "colab_type": "code",
    "id": "bUib_pbl8ipB"
   },
   "outputs": [],
   "source": [
    "from sklearn.model_selection import train_test_split\n",
    "X_train, X_test, y_train, y_test = train_test_split(X, y, test_size = 0.2, random_state = 0)"
   ]
  },
  {
   "cell_type": "markdown",
   "metadata": {
    "colab_type": "text",
    "id": "Rb5nWuSHEfBV"
   },
   "source": [
    "## Training the Polynomial Regression model on the Training set"
   ]
  },
  {
   "cell_type": "code",
   "execution_count": 4,
   "metadata": {
    "colab": {},
    "colab_type": "code",
    "id": "HYplp4pTEm0O"
   },
   "outputs": [
    {
     "data": {
      "text/plain": [
       "LinearRegression(copy_X=True, fit_intercept=True, n_jobs=None, normalize=False)"
      ]
     },
     "execution_count": 4,
     "metadata": {},
     "output_type": "execute_result"
    }
   ],
   "source": [
    "from sklearn.preprocessing import PolynomialFeatures\n",
    "from sklearn.linear_model import LinearRegression\n",
    "poly_reg = PolynomialFeatures(degree = 4) # power of 4 \n",
    "X_poly = poly_reg.fit_transform(X_train)\n",
    "regressor = LinearRegression()\n",
    "regressor.fit(X_poly, y_train)"
   ]
  },
  {
   "cell_type": "markdown",
   "metadata": {
    "colab_type": "text",
    "id": "pzF3BRps9nlk"
   },
   "source": [
    "## Predicting the Test set results"
   ]
  },
  {
   "cell_type": "code",
   "execution_count": 5,
   "metadata": {
    "colab": {},
    "colab_type": "code",
    "id": "36aFLFBK9pMk",
    "scrolled": true
   },
   "outputs": [
    {
     "name": "stdout",
     "output_type": "stream",
     "text": [
      "[[ 430689.83  417900.  ]\n",
      " [ 657668.53  632100.  ]\n",
      " [ 309999.98  281400.  ]\n",
      " [ 288233.01  577500.  ]\n",
      " [ 512314.27  474600.  ]\n",
      " [ 295515.37  359100.  ]\n",
      " [ 340099.47  247800.  ]\n",
      " [ 403332.23  474600.  ]\n",
      " [ 461846.56  449400.  ]\n",
      " [ 378263.62  411600.  ]\n",
      " [ 258089.45  214200.  ]\n",
      " [ 357926.81  214200.  ]\n",
      " [ 456017.79  428400.  ]\n",
      " [ 227332.7   375900.  ]\n",
      " [ 467785.49  577500.  ]\n",
      " [ 318454.12  327600.  ]\n",
      " [ 451517.68  420000.  ]\n",
      " [ 552064.51  489300.  ]\n",
      " [ 406937.51  470400.  ]\n",
      " [ 634826.02  640500.  ]\n",
      " [ 756064.34  651000.  ]\n",
      " [ 738661.13  690900.  ]\n",
      " [ 283282.61  147000.  ]\n",
      " [ 441123.11  441000.  ]\n",
      " [ 401220.13  367500.  ]\n",
      " [ 902566.79  966000.  ]\n",
      " [ 750750.87  756000.  ]\n",
      " [ 887372.34  888300.  ]\n",
      " [ 402729.41  455700.  ]\n",
      " [ 418654.05  445200.  ]\n",
      " [ 307575.41  323400.  ]\n",
      " [ 412397.85  455700.  ]\n",
      " [ 458845.97  430500.  ]\n",
      " [ 689964.77  867300.  ]\n",
      " [ 444692.54  445200.  ]\n",
      " [1003435.02  875700.  ]\n",
      " [ 471637.68  415800.  ]\n",
      " [ 249310.37  268800.  ]\n",
      " [ 489661.08  590100.  ]\n",
      " [ 536271.96  497700.  ]\n",
      " [ 262376.95  231000.  ]\n",
      " [ 472983.93  315000.  ]\n",
      " [ 418849.52  388500.  ]\n",
      " [ 482093.17  449400.  ]\n",
      " [ 357417.02  413700.  ]\n",
      " [ 373830.49  352800.  ]\n",
      " [ 510277.44  453600.  ]\n",
      " [ 320029.52  306600.  ]\n",
      " [ 775055.92  898800.  ]\n",
      " [ 410375.86  514500.  ]\n",
      " [ 694591.24  743400.  ]\n",
      " [ 438494.63  474600.  ]\n",
      " [ 595763.77  600600.  ]\n",
      " [ 327871.65  304500.  ]\n",
      " [ 782413.72  661500.  ]\n",
      " [ 567937.6   489300.  ]\n",
      " [ 373277.9   422100.  ]\n",
      " [ 278172.35  184800.  ]\n",
      " [ 468314.84  525000.  ]\n",
      " [ 435783.93  249900.  ]\n",
      " [ 363967.16  407400.  ]\n",
      " [ 264649.6   361200.  ]\n",
      " [ 432657.99  428400.  ]\n",
      " [ 425344.43  392700.  ]\n",
      " [ 379585.31  428400.  ]\n",
      " [ 391749.81  472500.  ]\n",
      " [ 229241.61  258300.  ]\n",
      " [ 560491.54  550200.  ]\n",
      " [ 545335.52  346500.  ]\n",
      " [ 221201.91  199500.  ]\n",
      " [  94242.24  302400.  ]\n",
      " [ 538364.52  611100.  ]\n",
      " [ 362548.65  396900.  ]\n",
      " [ 565776.9   585900.  ]\n",
      " [ 261885.36  279300.  ]\n",
      " [ 428099.15  483000.  ]\n",
      " [ 594755.81  462000.  ]\n",
      " [ 337598.39  218400.  ]\n",
      " [ 528950.75  518700.  ]\n",
      " [ 373296.8   420000.  ]\n",
      " [ 404092.16  392700.  ]\n",
      " [ 878000.47  980700.  ]\n",
      " [ 442340.57  455700.  ]\n",
      " [ 483767.07  514500.  ]\n",
      " [ 431156.74  480900.  ]\n",
      " [ 648603.93  520800.  ]\n",
      " [ 549814.24  485100.  ]\n",
      " [ 506067.13  525000.  ]\n",
      " [ 434321.56  390600.  ]\n",
      " [ 447038.01  569100.  ]\n",
      " [ 426724.91  359100.  ]\n",
      " [ 339135.54  346500.  ]\n",
      " [ 337716.83  283500.  ]\n",
      " [ 354044.28  344400.  ]\n",
      " [ 470598.33  459900.  ]\n",
      " [ 476719.75  464100.  ]\n",
      " [ 432858.56  432600.  ]\n",
      " [ 571500.09  617400.  ]]\n"
     ]
    }
   ],
   "source": [
    "y_pred = regressor.predict(poly_reg.transform(X_test))\n",
    "np.set_printoptions(precision=2)\n",
    "print(np.concatenate((y_pred.reshape(len(y_pred),1), y_test.reshape(len(y_test),1)),1))"
   ]
  },
  {
   "cell_type": "markdown",
   "metadata": {
    "colab_type": "text",
    "id": "Fz1uTlWV919-"
   },
   "source": [
    "## Evaluating the Model Performance"
   ]
  },
  {
   "cell_type": "code",
   "execution_count": 6,
   "metadata": {
    "colab": {},
    "colab_type": "code",
    "id": "xvZQ_4W893-e"
   },
   "outputs": [
    {
     "data": {
      "text/plain": [
       "0.7752997053051813"
      ]
     },
     "execution_count": 6,
     "metadata": {},
     "output_type": "execute_result"
    }
   ],
   "source": [
    "from sklearn.metrics import r2_score\n",
    "r2_score(y_test, y_pred)"
   ]
  }
 ],
 "metadata": {
  "colab": {
   "collapsed_sections": [],
   "name": "polynomial_regression.ipynb",
   "provenance": [],
   "toc_visible": true
  },
  "kernelspec": {
   "display_name": "Python 3",
   "language": "python",
   "name": "python3"
  },
  "language_info": {
   "codemirror_mode": {
    "name": "ipython",
    "version": 3
   },
   "file_extension": ".py",
   "mimetype": "text/x-python",
   "name": "python",
   "nbconvert_exporter": "python",
   "pygments_lexer": "ipython3",
   "version": "3.7.6"
  }
 },
 "nbformat": 4,
 "nbformat_minor": 1
}
