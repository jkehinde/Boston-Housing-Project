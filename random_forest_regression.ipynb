{
 "cells": [
  {
   "cell_type": "markdown",
   "metadata": {
    "colab_type": "text",
    "id": "LeamvpPVXuS_"
   },
   "source": [
    "# Random Forest Regression"
   ]
  },
  {
   "cell_type": "markdown",
   "metadata": {
    "colab_type": "text",
    "id": "O2wvZ7SKXzVC"
   },
   "source": [
    "## Importing the libraries"
   ]
  },
  {
   "cell_type": "code",
   "execution_count": 1,
   "metadata": {
    "colab": {},
    "colab_type": "code",
    "id": "PVmESEFZX4Ig"
   },
   "outputs": [],
   "source": [
    "import numpy as np\n",
    "import matplotlib.pyplot as plt\n",
    "import pandas as pd"
   ]
  },
  {
   "cell_type": "markdown",
   "metadata": {
    "colab_type": "text",
    "id": "zgbK_F8-X7em"
   },
   "source": [
    "## Importing the dataset"
   ]
  },
  {
   "cell_type": "code",
   "execution_count": 2,
   "metadata": {
    "colab": {},
    "colab_type": "code",
    "id": "adBE4tjQX_Bh"
   },
   "outputs": [],
   "source": [
    "dataset = pd.read_csv('Housing.csv')\n",
    "X = dataset.iloc[:, :-1].values\n",
    "y = dataset.iloc[:, -1].values"
   ]
  },
  {
   "cell_type": "markdown",
   "metadata": {
    "colab_type": "text",
    "id": "ptNjcy7bOBlD"
   },
   "source": [
    "## Splitting the dataset into the Training set and Test set"
   ]
  },
  {
   "cell_type": "code",
   "execution_count": 3,
   "metadata": {
    "colab": {},
    "colab_type": "code",
    "id": "C7NdofoCOFQF"
   },
   "outputs": [],
   "source": [
    "from sklearn.model_selection import train_test_split\n",
    "X_train, X_test, y_train, y_test = train_test_split(X, y, test_size = 0.2, random_state = 0)"
   ]
  },
  {
   "cell_type": "markdown",
   "metadata": {
    "colab_type": "text",
    "id": "v4S2fyIBYDcu"
   },
   "source": [
    "## Training the Random Forest Regression model on the whole dataset"
   ]
  },
  {
   "cell_type": "code",
   "execution_count": 4,
   "metadata": {
    "colab": {},
    "colab_type": "code",
    "id": "o8dOCoJ1YKMc"
   },
   "outputs": [
    {
     "data": {
      "text/plain": [
       "RandomForestRegressor(bootstrap=True, ccp_alpha=0.0, criterion='mse',\n",
       "                      max_depth=None, max_features='auto', max_leaf_nodes=None,\n",
       "                      max_samples=None, min_impurity_decrease=0.0,\n",
       "                      min_impurity_split=None, min_samples_leaf=1,\n",
       "                      min_samples_split=2, min_weight_fraction_leaf=0.0,\n",
       "                      n_estimators=10, n_jobs=None, oob_score=False,\n",
       "                      random_state=0, verbose=0, warm_start=False)"
      ]
     },
     "execution_count": 4,
     "metadata": {},
     "output_type": "execute_result"
    }
   ],
   "source": [
    "from sklearn.ensemble import RandomForestRegressor\n",
    "regressor = RandomForestRegressor(n_estimators = 10, random_state = 0)\n",
    "regressor.fit(X_train, y_train)"
   ]
  },
  {
   "cell_type": "markdown",
   "metadata": {
    "colab_type": "text",
    "id": "DM_jh0frOPKE"
   },
   "source": [
    "## Predicting the Test set results"
   ]
  },
  {
   "cell_type": "code",
   "execution_count": 5,
   "metadata": {
    "colab": {},
    "colab_type": "code",
    "collapsed": true,
    "id": "JGa9ZfM4OTNw"
   },
   "outputs": [
    {
     "name": "stdout",
     "output_type": "stream",
     "text": [
      "[[425040. 417900.]\n",
      " [642600. 632100.]\n",
      " [328860. 281400.]\n",
      " [279930. 577500.]\n",
      " [507990. 474600.]\n",
      " [263550. 359100.]\n",
      " [322140. 247800.]\n",
      " [439320. 474600.]\n",
      " [450030. 449400.]\n",
      " [344400. 411600.]\n",
      " [223650. 214200.]\n",
      " [292740. 214200.]\n",
      " [454440. 428400.]\n",
      " [237510. 375900.]\n",
      " [531300. 577500.]\n",
      " [334950. 327600.]\n",
      " [426930. 420000.]\n",
      " [529200. 489300.]\n",
      " [431130. 470400.]\n",
      " [616560. 640500.]\n",
      " [535920. 651000.]\n",
      " [753060. 690900.]\n",
      " [244440. 147000.]\n",
      " [423360. 441000.]\n",
      " [436170. 367500.]\n",
      " [896490. 966000.]\n",
      " [732060. 756000.]\n",
      " [905730. 888300.]\n",
      " [433860. 455700.]\n",
      " [452550. 445200.]\n",
      " [432810. 323400.]\n",
      " [395640. 455700.]\n",
      " [485520. 430500.]\n",
      " [687960. 867300.]\n",
      " [430290. 445200.]\n",
      " [894180. 875700.]\n",
      " [577710. 415800.]\n",
      " [222390. 268800.]\n",
      " [528360. 590100.]\n",
      " [556080. 497700.]\n",
      " [234570. 231000.]\n",
      " [360150. 315000.]\n",
      " [439950. 388500.]\n",
      " [497700. 449400.]\n",
      " [402780. 413700.]\n",
      " [339780. 352800.]\n",
      " [507990. 453600.]\n",
      " [300300. 306600.]\n",
      " [835380. 898800.]\n",
      " [425670. 514500.]\n",
      " [706440. 743400.]\n",
      " [395850. 474600.]\n",
      " [569100. 600600.]\n",
      " [325290. 304500.]\n",
      " [697410. 661500.]\n",
      " [576660. 489300.]\n",
      " [326340. 422100.]\n",
      " [263130. 184800.]\n",
      " [650580. 525000.]\n",
      " [413910. 249900.]\n",
      " [361620. 407400.]\n",
      " [266070. 361200.]\n",
      " [414120. 428400.]\n",
      " [419580. 392700.]\n",
      " [422100. 428400.]\n",
      " [410970. 472500.]\n",
      " [221550. 258300.]\n",
      " [539700. 550200.]\n",
      " [530880. 346500.]\n",
      " [274260. 199500.]\n",
      " [233100. 302400.]\n",
      " [514500. 611100.]\n",
      " [342930. 396900.]\n",
      " [520170. 585900.]\n",
      " [244860. 279300.]\n",
      " [421260. 483000.]\n",
      " [532140. 462000.]\n",
      " [307020. 218400.]\n",
      " [555450. 518700.]\n",
      " [356160. 420000.]\n",
      " [426300. 392700.]\n",
      " [920220. 980700.]\n",
      " [434700. 455700.]\n",
      " [607110. 514500.]\n",
      " [431760. 480900.]\n",
      " [630840. 520800.]\n",
      " [531300. 485100.]\n",
      " [488460. 525000.]\n",
      " [444150. 390600.]\n",
      " [373800. 569100.]\n",
      " [420840. 359100.]\n",
      " [319410. 346500.]\n",
      " [350700. 283500.]\n",
      " [284970. 344400.]\n",
      " [502950. 459900.]\n",
      " [497910. 464100.]\n",
      " [532560. 432600.]\n",
      " [589050. 617400.]]\n"
     ]
    }
   ],
   "source": [
    "y_pred = regressor.predict(X_test)\n",
    "np.set_printoptions(precision=2)\n",
    "print(np.concatenate((y_pred.reshape(len(y_pred),1), y_test.reshape(len(y_test),1)),1))"
   ]
  },
  {
   "cell_type": "markdown",
   "metadata": {
    "colab_type": "text",
    "id": "Cd8VZM5POWXN"
   },
   "source": [
    "## Evaluating the Model Performance"
   ]
  },
  {
   "cell_type": "code",
   "execution_count": 6,
   "metadata": {
    "colab": {},
    "colab_type": "code",
    "id": "a7y1rXlfOZJo"
   },
   "outputs": [
    {
     "data": {
      "text/plain": [
       "0.7958582987098185"
      ]
     },
     "execution_count": 6,
     "metadata": {},
     "output_type": "execute_result"
    }
   ],
   "source": [
    "from sklearn.metrics import r2_score\n",
    "r2_score(y_test, y_pred)"
   ]
  }
 ],
 "metadata": {
  "colab": {
   "collapsed_sections": [],
   "name": "random_forest_regression.ipynb",
   "provenance": [],
   "toc_visible": true
  },
  "kernelspec": {
   "display_name": "Python 3",
   "language": "python",
   "name": "python3"
  },
  "language_info": {
   "codemirror_mode": {
    "name": "ipython",
    "version": 3
   },
   "file_extension": ".py",
   "mimetype": "text/x-python",
   "name": "python",
   "nbconvert_exporter": "python",
   "pygments_lexer": "ipython3",
   "version": "3.7.6"
  }
 },
 "nbformat": 4,
 "nbformat_minor": 1
}
