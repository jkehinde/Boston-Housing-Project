{
 "cells": [
  {
   "cell_type": "markdown",
   "metadata": {
    "colab_type": "text",
    "id": "CazISR8X_HUG"
   },
   "source": [
    "# Multiple Linear Regression"
   ]
  },
  {
   "cell_type": "markdown",
   "metadata": {
    "colab_type": "text",
    "id": "pOyqYHTk_Q57"
   },
   "source": [
    "## Importing the libraries"
   ]
  },
  {
   "cell_type": "code",
   "execution_count": 1,
   "metadata": {
    "colab": {},
    "colab_type": "code",
    "id": "T_YHJjnD_Tja"
   },
   "outputs": [],
   "source": [
    "import numpy as np\n",
    "import matplotlib.pyplot as plt\n",
    "import pandas as pd"
   ]
  },
  {
   "cell_type": "markdown",
   "metadata": {
    "colab_type": "text",
    "id": "vgC61-ah_WIz"
   },
   "source": [
    "## Importing the dataset"
   ]
  },
  {
   "cell_type": "code",
   "execution_count": 2,
   "metadata": {
    "colab": {},
    "colab_type": "code",
    "id": "UrxyEKGn_ez7"
   },
   "outputs": [],
   "source": [
    "dataset = pd.read_csv('Housing.csv')\n",
    "X = dataset.iloc[:, :-1].values # independent varibles \n",
    "y = dataset.iloc[:, -1].values # Dependent variables"
   ]
  },
  {
   "cell_type": "markdown",
   "metadata": {
    "colab_type": "text",
    "id": "WemVnqgeA70k"
   },
   "source": [
    "## Splitting the dataset into the Training set and Test set"
   ]
  },
  {
   "cell_type": "code",
   "execution_count": 3,
   "metadata": {
    "colab": {},
    "colab_type": "code",
    "id": "Kb_v_ae-A-20"
   },
   "outputs": [],
   "source": [
    "from sklearn.model_selection import train_test_split\n",
    "X_train, X_test, y_train, y_test = train_test_split(X, y, test_size = 0.2, random_state = 0)"
   ]
  },
  {
   "cell_type": "markdown",
   "metadata": {
    "colab_type": "text",
    "id": "k-McZVsQBINc"
   },
   "source": [
    "## Training the Multiple Linear Regression model on the Training set"
   ]
  },
  {
   "cell_type": "code",
   "execution_count": 4,
   "metadata": {
    "colab": {},
    "colab_type": "code",
    "id": "ywPjx0L1BMiD"
   },
   "outputs": [
    {
     "data": {
      "text/plain": [
       "LinearRegression(copy_X=True, fit_intercept=True, n_jobs=None, normalize=False)"
      ]
     },
     "execution_count": 4,
     "metadata": {},
     "output_type": "execute_result"
    }
   ],
   "source": [
    "# Fitting our linear regression model training set  \n",
    "from sklearn.linear_model import LinearRegression\n",
    "regressor = LinearRegression()\n",
    "regressor.fit(X_train, y_train)"
   ]
  },
  {
   "cell_type": "markdown",
   "metadata": {
    "colab_type": "text",
    "id": "xNkXL1YQBiBT"
   },
   "source": [
    "## Predicting the Test set results"
   ]
  },
  {
   "cell_type": "code",
   "execution_count": 5,
   "metadata": {
    "colab": {},
    "colab_type": "code",
    "collapsed": true,
    "id": "TQKmwvtdBkyb"
   },
   "outputs": [
    {
     "name": "stdout",
     "output_type": "stream",
     "text": [
      "[[423881.78 417900.  ]\n",
      " [680175.7  632100.  ]\n",
      " [299260.76 281400.  ]\n",
      " [392611.22 577500.  ]\n",
      " [530004.12 474600.  ]\n",
      " [358978.92 359100.  ]\n",
      " [229712.66 247800.  ]\n",
      " [413822.48 474600.  ]\n",
      " [476083.34 449400.  ]\n",
      " [372832.64 411600.  ]\n",
      " [317887.97 214200.  ]\n",
      " [356411.61 214200.  ]\n",
      " [476957.35 428400.  ]\n",
      " [ 41708.57 375900.  ]\n",
      " [488212.52 577500.  ]\n",
      " [311735.07 327600.  ]\n",
      " [464748.13 420000.  ]\n",
      " [614234.98 489300.  ]\n",
      " [381107.3  470400.  ]\n",
      " [654465.18 640500.  ]\n",
      " [669847.67 651000.  ]\n",
      " [654791.29 690900.  ]\n",
      " [  2659.33 147000.  ]\n",
      " [456701.79 441000.  ]\n",
      " [360629.19 367500.  ]\n",
      " [754076.24 966000.  ]\n",
      " [710239.11 756000.  ]\n",
      " [753933.55 888300.  ]\n",
      " [430146.74 455700.  ]\n",
      " [422726.63 445200.  ]\n",
      " [373193.32 323400.  ]\n",
      " [457577.73 455700.  ]\n",
      " [473612.26 430500.  ]\n",
      " [682085.65 867300.  ]\n",
      " [456621.36 445200.  ]\n",
      " [768574.93 875700.  ]\n",
      " [521836.21 415800.  ]\n",
      " [256253.31 268800.  ]\n",
      " [504441.56 590100.  ]\n",
      " [593086.87 497700.  ]\n",
      " [318422.2  231000.  ]\n",
      " [442998.86 315000.  ]\n",
      " [403020.85 388500.  ]\n",
      " [500263.2  449400.  ]\n",
      " [276278.07 413700.  ]\n",
      " [365727.12 352800.  ]\n",
      " [526527.28 453600.  ]\n",
      " [358009.74 306600.  ]\n",
      " [716807.29 898800.  ]\n",
      " [407362.4  514500.  ]\n",
      " [680253.89 743400.  ]\n",
      " [447508.34 474600.  ]\n",
      " [615695.42 600600.  ]\n",
      " [375894.35 304500.  ]\n",
      " [662107.65 661500.  ]\n",
      " [585442.33 489300.  ]\n",
      " [356951.56 422100.  ]\n",
      " [309417.53 184800.  ]\n",
      " [487552.44 525000.  ]\n",
      " [446783.   249900.  ]\n",
      " [451584.22 407400.  ]\n",
      " [359990.44 361200.  ]\n",
      " [409596.69 428400.  ]\n",
      " [407831.52 392700.  ]\n",
      " [385082.23 428400.  ]\n",
      " [355727.41 472500.  ]\n",
      " [228092.53 258300.  ]\n",
      " [555418.48 550200.  ]\n",
      " [578859.12 346500.  ]\n",
      " [304260.33 199500.  ]\n",
      " [ 53935.38 302400.  ]\n",
      " [557908.54 611100.  ]\n",
      " [353380.57 396900.  ]\n",
      " [567696.83 585900.  ]\n",
      " [371011.77 279300.  ]\n",
      " [433625.05 483000.  ]\n",
      " [563101.56 462000.  ]\n",
      " [431774.12 218400.  ]\n",
      " [571979.71 518700.  ]\n",
      " [387867.68 420000.  ]\n",
      " [387529.38 392700.  ]\n",
      " [698387.07 980700.  ]\n",
      " [453018.49 455700.  ]\n",
      " [497878.18 514500.  ]\n",
      " [505502.85 480900.  ]\n",
      " [657163.23 520800.  ]\n",
      " [564444.51 485100.  ]\n",
      " [525893.99 525000.  ]\n",
      " [447813.32 390600.  ]\n",
      " [441152.81 569100.  ]\n",
      " [447347.92 359100.  ]\n",
      " [272411.4  346500.  ]\n",
      " [350128.33 283500.  ]\n",
      " [418954.93 344400.  ]\n",
      " [557651.22 459900.  ]\n",
      " [526754.2  464100.  ]\n",
      " [440337.11 432600.  ]\n",
      " [604038.53 617400.  ]]\n"
     ]
    }
   ],
   "source": [
    "y_pred = regressor.predict(X_test)\n",
    "np.set_printoptions(precision=2)\n",
    "print(np.concatenate((y_pred.reshape(len(y_pred),1), y_test.reshape(len(y_test),1)),1))\n",
    "# This puts y_pred by y_test in an array"
   ]
  },
  {
   "cell_type": "markdown",
   "metadata": {
    "colab_type": "text",
    "id": "50DZZy0UyhLi"
   },
   "source": [
    "## Evaluating the Model Performance"
   ]
  },
  {
   "cell_type": "code",
   "execution_count": 6,
   "metadata": {
    "colab": {},
    "colab_type": "code",
    "id": "xPagAOKDywV4"
   },
   "outputs": [
    {
     "data": {
      "text/plain": [
       "0.6574622113312862"
      ]
     },
     "execution_count": 6,
     "metadata": {},
     "output_type": "execute_result"
    }
   ],
   "source": [
    "from sklearn.metrics import r2_score\n",
    "r2_score(y_test, y_pred)"
   ]
  }
 ],
 "metadata": {
  "colab": {
   "collapsed_sections": [],
   "name": "multiple_linear_regression.ipynb",
   "provenance": [],
   "toc_visible": true
  },
  "kernelspec": {
   "display_name": "Python 3",
   "language": "python",
   "name": "python3"
  },
  "language_info": {
   "codemirror_mode": {
    "name": "ipython",
    "version": 3
   },
   "file_extension": ".py",
   "mimetype": "text/x-python",
   "name": "python",
   "nbconvert_exporter": "python",
   "pygments_lexer": "ipython3",
   "version": "3.7.6"
  }
 },
 "nbformat": 4,
 "nbformat_minor": 1
}
